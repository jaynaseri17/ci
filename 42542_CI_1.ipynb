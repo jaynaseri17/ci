{
 "cells": [
  {
   "cell_type": "markdown",
   "id": "1232b477-7c67-49cb-b499-a578a4c796ec",
   "metadata": {},
   "source": [
    "### **Problem Statement:**\n",
    "Implement Union, Intersection, Complement and Difference operations on fuzzy sets. Also \n",
    "create fuzzy relations by Cartesian product of any two fuzzy sets and perform max-mi \r\n",
    "composition on any two fuzzy relations.\r"
   ]
  },
  {
   "cell_type": "markdown",
   "id": "dfdf75d2-0493-4ed7-af7d-4d5322f95172",
   "metadata": {},
   "source": [
    "#### **Defining All Functions**"
   ]
  },
  {
   "cell_type": "code",
   "execution_count": 12,
   "id": "42a33b78-642a-4b68-9f96-157ea3fa1f08",
   "metadata": {},
   "outputs": [],
   "source": [
    "def fuzzy_union(A, B):\n",
    "    return {x: max(A.get(x, 0), B.get(x, 0)) for x in set(A) | set(B)}\n",
    "\n",
    "def fuzzy_intersection(A, B):\n",
    "    return {x: min(A.get(x, 0), B.get(x, 0)) for x in set(A) | set(B)}\n",
    "\n",
    "def fuzzy_complement(A):\n",
    "    return {x: round(1 - A[x], 2) for x in A}\n",
    "\n",
    "def fuzzy_difference(A, B):\n",
    "    return {x: min(A.get(x, 0), 1 - B.get(x, 0)) for x in set(A) | set(B)}\n",
    "\n",
    "def fuzzy_cartesian_product(A, B):\n",
    "    return {(x, y): min(A[x], B[y]) for x in A for y in B}\n",
    "\n",
    "def max_min_composition(R, S):\n",
    "    result = {}\n",
    "    for (x, y1) in R:\n",
    "        for (y2, z) in S:\n",
    "            if y1 == y2:\n",
    "                key = (x, z)\n",
    "                value = min(R[(x, y1)], S[(y2, z)])\n",
    "                if key in result:\n",
    "                    result[key] = max(result[key], value)\n",
    "                else:\n",
    "                    result[key] = value\n",
    "    return result"
   ]
  },
  {
   "cell_type": "markdown",
   "id": "e5db6f6d-4295-48e2-8f3d-98afb8907d6c",
   "metadata": {},
   "source": [
    "#### **Creating Fuzzy sets and Relations**"
   ]
  },
  {
   "cell_type": "code",
   "execution_count": 13,
   "id": "a619c7f0-f3de-41d8-8786-bd4194b43aca",
   "metadata": {},
   "outputs": [],
   "source": [
    "#Fuzzy sets\n",
    "A = {'x1': 0.3, 'x2': 0.7}\n",
    "B = {'y1': 0.6, 'y2': 0.4}\n",
    "\n",
    "#Fuzzy relations\n",
    "R = {('x1', 'y1'): 0.3, ('x1', 'y2'): 0.7}\n",
    "S = {('y1', 'z1'): 0.5, ('y2', 'z1'): 0.8}"
   ]
  },
  {
   "cell_type": "markdown",
   "id": "7ff61f63-c9cd-4cce-9704-c1433f7c5179",
   "metadata": {},
   "source": [
    "#### **Displaying Results**"
   ]
  },
  {
   "cell_type": "code",
   "execution_count": 14,
   "id": "995963ea-2540-4a6d-ac38-2978f3cb3b18",
   "metadata": {},
   "outputs": [
    {
     "name": "stdout",
     "output_type": "stream",
     "text": [
      "Fuzzy Union: {'y1': 0.6, 'x2': 0.7, 'y2': 0.4, 'x1': 0.3}\n",
      "\n",
      "Fuzzy Intersection: {'y1': 0, 'x2': 0, 'y2': 0, 'x1': 0}\n",
      "\n",
      "Fuzzy Complement of A: {'x1': 0.7, 'x2': 0.3}\n",
      "\n",
      "Fuzzy Difference (A - B): {'y1': 0, 'x2': 0.7, 'y2': 0, 'x1': 0.3}\n",
      "\n",
      "Fuzzy Cartesian Product (A x B): {('x1', 'y1'): 0.3, ('x1', 'y2'): 0.3, ('x2', 'y1'): 0.6, ('x2', 'y2'): 0.4}\n",
      "\n",
      "Max-Min Composition (R ∘ S): {('x1', 'z1'): 0.7}\n"
     ]
    }
   ],
   "source": [
    "print(\"Fuzzy Union:\", fuzzy_union(A, B))\n",
    "print(\"\\nFuzzy Intersection:\", fuzzy_intersection(A, B))\n",
    "print(\"\\nFuzzy Complement of A:\", fuzzy_complement(A))\n",
    "print(\"\\nFuzzy Difference (A - B):\", fuzzy_difference(A, B))\n",
    "print(\"\\nFuzzy Cartesian Product (A x B):\", fuzzy_cartesian_product(A, B))\n",
    "print(\"\\nMax-Min Composition (R ∘ S):\", max_min_composition(R, S))"
   ]
  }
 ],
 "metadata": {
  "kernelspec": {
   "display_name": "Python 3 (ipykernel)",
   "language": "python",
   "name": "python3"
  },
  "language_info": {
   "codemirror_mode": {
    "name": "ipython",
    "version": 3
   },
   "file_extension": ".py",
   "mimetype": "text/x-python",
   "name": "python",
   "nbconvert_exporter": "python",
   "pygments_lexer": "ipython3",
   "version": "3.12.7"
  }
 },
 "nbformat": 4,
 "nbformat_minor": 5
}

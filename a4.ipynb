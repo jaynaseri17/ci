{
 "cells": [
  {
   "cell_type": "code",
   "execution_count": 4,
   "id": "86b2db3d",
   "metadata": {},
   "outputs": [
    {
     "name": "stdout",
     "output_type": "stream",
     "text": [
      "Accuracy: 0.51\n",
      "Number of detectors generated: 150\n"
     ]
    }
   ],
   "source": [
    "import numpy as np\n",
    "from sklearn.datasets import make_classification\n",
    "from sklearn.model_selection import train_test_split\n",
    "from sklearn.metrics import accuracy_score\n",
    "\n",
    "class ArtificialImmuneSystem:\n",
    "    def __init__(self, n_detectors=100, radius=0.5):\n",
    "        self.n_detectors = n_detectors  # Number of detector cells\n",
    "        self.radius = radius            # Detection radius\n",
    "        self.detectors = None           # Will store our detector cells\n",
    "    \n",
    "    def generate_detectors(self, normal_data):\n",
    "        \"\"\"Generate detector cells that don't match normal patterns\"\"\"\n",
    "        n_features = normal_data.shape[1]\n",
    "        detectors = []\n",
    "        \n",
    "        while len(detectors) < self.n_detectors:\n",
    "            # Generate random candidate detector\n",
    "            candidate = np.random.uniform(low=normal_data.min(), \n",
    "                                         high=normal_data.max(), \n",
    "                                         size=n_features)\n",
    "            \n",
    "            # Check if candidate doesn't match any normal sample\n",
    "            match = False\n",
    "            for sample in normal_data:\n",
    "                if np.linalg.norm(candidate - sample) < self.radius:\n",
    "                    match = True\n",
    "                    break\n",
    "            \n",
    "            if not match:\n",
    "                detectors.append(candidate)\n",
    "        \n",
    "        self.detectors = np.array(detectors)\n",
    "    \n",
    "    def predict(self, X):\n",
    "        \"\"\"Classify samples as normal (0) or damaged (1)\"\"\"\n",
    "        predictions = []\n",
    "        for sample in X:\n",
    "            damaged = False\n",
    "            for detector in self.detectors:\n",
    "                if np.linalg.norm(detector - sample) < self.radius:\n",
    "                    damaged = True\n",
    "                    break\n",
    "            predictions.append(1 if damaged else 0)\n",
    "        return np.array(predictions)\n",
    "\n",
    "# Generate synthetic structural health monitoring data\n",
    "# Features could be vibration frequencies, mode shapes, etc.\n",
    "# Class 0 = normal structure, Class 1 = damaged structure\n",
    "X, y = make_classification(n_samples=1000, n_features=5, n_classes=2, \n",
    "                          n_clusters_per_class=1, random_state=42)\n",
    "\n",
    "# Split into training (normal data only) and test sets\n",
    "X_normal = X[y == 0]\n",
    "X_train, X_test, y_train, y_test = train_test_split(X, y, test_size=0.3, random_state=42)\n",
    "\n",
    "# Train the AIS (only use normal data for training)\n",
    "ais = ArtificialImmuneSystem(n_detectors=150, radius=0.8)\n",
    "ais.generate_detectors(X_normal)\n",
    "\n",
    "# Test the classifier\n",
    "y_pred = ais.predict(X_test)\n",
    "accuracy = accuracy_score(y_test, y_pred)\n",
    "\n",
    "print(f\"Accuracy: {accuracy:.2f}\")\n",
    "print(f\"Number of detectors generated: {len(ais.detectors)}\")"
   ]
  },
  {
   "cell_type": "code",
   "execution_count": null,
   "id": "d17fe41f",
   "metadata": {},
   "outputs": [],
   "source": []
  }
 ],
 "metadata": {
  "kernelspec": {
   "display_name": "Python 3 (ipykernel)",
   "language": "python",
   "name": "python3"
  },
  "language_info": {
   "codemirror_mode": {
    "name": "ipython",
    "version": 3
   },
   "file_extension": ".py",
   "mimetype": "text/x-python",
   "name": "python",
   "nbconvert_exporter": "python",
   "pygments_lexer": "ipython3",
   "version": "3.12.7"
  }
 },
 "nbformat": 4,
 "nbformat_minor": 5
}
